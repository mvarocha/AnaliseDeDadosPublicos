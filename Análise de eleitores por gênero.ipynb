{
 "cells": [
  {
   "cell_type": "markdown",
   "metadata": {},
   "source": [
    "# Análise de dados eleitorais: \n",
    "### Análise por gênero e faixa etária\n",
    "Análise de dados eleitorais de 2020 utilizando como principal assunto o gênero e faixa etária dos eleitores."
   ]
  },
  {
   "cell_type": "code",
   "execution_count": 1,
   "metadata": {},
   "outputs": [],
   "source": [
    "import pandas as pd\n",
    "low_memory=False\n",
    "import numpy as np\n",
    "import matplotlib.pyplot as plt\n",
    "%matplotlib inline\n",
    "pd.options.display.max_columns = 80\n",
    "pd.options.display.max_rows = 90"
   ]
  },
  {
   "cell_type": "code",
   "execution_count": 2,
   "metadata": {},
   "outputs": [],
   "source": [
    "file = r'C:\\Users\\lucas\\Documents\\analise_dados\\perfil_eleitorado_ATUAL.csv'\n",
    "df = pd.read_csv(file, delimiter=';',\n",
    "                 error_bad_lines=False, encoding='latin1')"
   ]
  },
  {
   "cell_type": "code",
   "execution_count": 3,
   "metadata": {},
   "outputs": [
    {
     "data": {
      "text/plain": [
       "(4306904, 21)"
      ]
     },
     "execution_count": 3,
     "metadata": {},
     "output_type": "execute_result"
    }
   ],
   "source": [
    "df.shape"
   ]
  },
  {
   "cell_type": "code",
   "execution_count": 4,
   "metadata": {},
   "outputs": [
    {
     "name": "stdout",
     "output_type": "stream",
     "text": [
      "<class 'pandas.core.frame.DataFrame'>\n",
      "RangeIndex: 4306904 entries, 0 to 4306903\n",
      "Data columns (total 21 columns):\n",
      " #   Column                      Dtype \n",
      "---  ------                      ----- \n",
      " 0   DT_GERACAO                  object\n",
      " 1   HH_GERACAO                  object\n",
      " 2   ANO_ELEICAO                 int64 \n",
      " 3   SG_UF                       object\n",
      " 4   CD_MUNICIPIO                int64 \n",
      " 5   NM_MUNICIPIO                object\n",
      " 6   CD_MUN_SIT_BIOMETRIA        int64 \n",
      " 7   DS_MUN_SIT_BIOMETRIA        object\n",
      " 8   NR_ZONA                     int64 \n",
      " 9   CD_GENERO                   int64 \n",
      " 10  DS_GENERO                   object\n",
      " 11  CD_ESTADO_CIVIL             int64 \n",
      " 12  DS_ESTADO_CIVIL             object\n",
      " 13  CD_FAIXA_ETARIA             int64 \n",
      " 14  DS_FAIXA_ETARIA             object\n",
      " 15  CD_GRAU_ESCOLARIDADE        int64 \n",
      " 16  DS_GRAU_ESCOLARIDADE        object\n",
      " 17  QT_ELEITORES_PERFIL         int64 \n",
      " 18  QT_ELEITORES_BIOMETRIA      int64 \n",
      " 19  QT_ELEITORES_DEFICIENCIA    int64 \n",
      " 20  QT_ELEITORES_INC_NM_SOCIAL  int64 \n",
      "dtypes: int64(12), object(9)\n",
      "memory usage: 690.0+ MB\n"
     ]
    }
   ],
   "source": [
    "df.info()"
   ]
  },
  {
   "cell_type": "code",
   "execution_count": 5,
   "metadata": {
    "scrolled": false
   },
   "outputs": [
    {
     "data": {
      "text/html": [
       "<div>\n",
       "<style scoped>\n",
       "    .dataframe tbody tr th:only-of-type {\n",
       "        vertical-align: middle;\n",
       "    }\n",
       "\n",
       "    .dataframe tbody tr th {\n",
       "        vertical-align: top;\n",
       "    }\n",
       "\n",
       "    .dataframe thead th {\n",
       "        text-align: right;\n",
       "    }\n",
       "</style>\n",
       "<table border=\"1\" class=\"dataframe\">\n",
       "  <thead>\n",
       "    <tr style=\"text-align: right;\">\n",
       "      <th></th>\n",
       "      <th>DT_GERACAO</th>\n",
       "      <th>HH_GERACAO</th>\n",
       "      <th>ANO_ELEICAO</th>\n",
       "      <th>SG_UF</th>\n",
       "      <th>CD_MUNICIPIO</th>\n",
       "      <th>NM_MUNICIPIO</th>\n",
       "      <th>CD_MUN_SIT_BIOMETRIA</th>\n",
       "      <th>DS_MUN_SIT_BIOMETRIA</th>\n",
       "      <th>NR_ZONA</th>\n",
       "      <th>CD_GENERO</th>\n",
       "      <th>DS_GENERO</th>\n",
       "      <th>CD_ESTADO_CIVIL</th>\n",
       "      <th>DS_ESTADO_CIVIL</th>\n",
       "      <th>CD_FAIXA_ETARIA</th>\n",
       "      <th>DS_FAIXA_ETARIA</th>\n",
       "      <th>CD_GRAU_ESCOLARIDADE</th>\n",
       "      <th>DS_GRAU_ESCOLARIDADE</th>\n",
       "      <th>QT_ELEITORES_PERFIL</th>\n",
       "      <th>QT_ELEITORES_BIOMETRIA</th>\n",
       "      <th>QT_ELEITORES_DEFICIENCIA</th>\n",
       "      <th>QT_ELEITORES_INC_NM_SOCIAL</th>\n",
       "    </tr>\n",
       "  </thead>\n",
       "  <tbody>\n",
       "    <tr>\n",
       "      <th>2268091</th>\n",
       "      <td>11/11/2020</td>\n",
       "      <td>21:20:42</td>\n",
       "      <td>9999</td>\n",
       "      <td>MA</td>\n",
       "      <td>7676</td>\n",
       "      <td>COLINAS</td>\n",
       "      <td>-1</td>\n",
       "      <td>#NULO#</td>\n",
       "      <td>29</td>\n",
       "      <td>2</td>\n",
       "      <td>MASCULINO</td>\n",
       "      <td>3</td>\n",
       "      <td>CASADO</td>\n",
       "      <td>6569</td>\n",
       "      <td>65 a 69 anos</td>\n",
       "      <td>8</td>\n",
       "      <td>SUPERIOR COMPLETO</td>\n",
       "      <td>13</td>\n",
       "      <td>13</td>\n",
       "      <td>0</td>\n",
       "      <td>0</td>\n",
       "    </tr>\n",
       "    <tr>\n",
       "      <th>1809929</th>\n",
       "      <td>11/11/2020</td>\n",
       "      <td>21:20:42</td>\n",
       "      <td>9999</td>\n",
       "      <td>MG</td>\n",
       "      <td>41289</td>\n",
       "      <td>PAI PEDRO</td>\n",
       "      <td>-1</td>\n",
       "      <td>#NULO#</td>\n",
       "      <td>226</td>\n",
       "      <td>2</td>\n",
       "      <td>MASCULINO</td>\n",
       "      <td>3</td>\n",
       "      <td>CASADO</td>\n",
       "      <td>4549</td>\n",
       "      <td>45 a 49 anos</td>\n",
       "      <td>6</td>\n",
       "      <td>ENSINO MÉDIO COMPLETO</td>\n",
       "      <td>11</td>\n",
       "      <td>6</td>\n",
       "      <td>0</td>\n",
       "      <td>0</td>\n",
       "    </tr>\n",
       "    <tr>\n",
       "      <th>3874039</th>\n",
       "      <td>11/11/2020</td>\n",
       "      <td>21:20:42</td>\n",
       "      <td>9999</td>\n",
       "      <td>SP</td>\n",
       "      <td>66915</td>\n",
       "      <td>MENDONÇA</td>\n",
       "      <td>-1</td>\n",
       "      <td>#NULO#</td>\n",
       "      <td>64</td>\n",
       "      <td>2</td>\n",
       "      <td>MASCULINO</td>\n",
       "      <td>9</td>\n",
       "      <td>DIVORCIADO</td>\n",
       "      <td>3034</td>\n",
       "      <td>30 a 34 anos</td>\n",
       "      <td>8</td>\n",
       "      <td>SUPERIOR COMPLETO</td>\n",
       "      <td>1</td>\n",
       "      <td>1</td>\n",
       "      <td>0</td>\n",
       "      <td>0</td>\n",
       "    </tr>\n",
       "    <tr>\n",
       "      <th>4089245</th>\n",
       "      <td>11/11/2020</td>\n",
       "      <td>21:20:42</td>\n",
       "      <td>9999</td>\n",
       "      <td>RJ</td>\n",
       "      <td>60011</td>\n",
       "      <td>RIO DE JANEIRO</td>\n",
       "      <td>-1</td>\n",
       "      <td>#NULO#</td>\n",
       "      <td>10</td>\n",
       "      <td>4</td>\n",
       "      <td>FEMININO</td>\n",
       "      <td>5</td>\n",
       "      <td>VIÚVO</td>\n",
       "      <td>7074</td>\n",
       "      <td>70 a 74 anos</td>\n",
       "      <td>8</td>\n",
       "      <td>SUPERIOR COMPLETO</td>\n",
       "      <td>14</td>\n",
       "      <td>12</td>\n",
       "      <td>0</td>\n",
       "      <td>0</td>\n",
       "    </tr>\n",
       "    <tr>\n",
       "      <th>1489135</th>\n",
       "      <td>11/11/2020</td>\n",
       "      <td>21:20:42</td>\n",
       "      <td>9999</td>\n",
       "      <td>PR</td>\n",
       "      <td>79294</td>\n",
       "      <td>TOMAZINA</td>\n",
       "      <td>-1</td>\n",
       "      <td>#NULO#</td>\n",
       "      <td>19</td>\n",
       "      <td>4</td>\n",
       "      <td>FEMININO</td>\n",
       "      <td>1</td>\n",
       "      <td>SOLTEIRO</td>\n",
       "      <td>6569</td>\n",
       "      <td>65 a 69 anos</td>\n",
       "      <td>8</td>\n",
       "      <td>SUPERIOR COMPLETO</td>\n",
       "      <td>2</td>\n",
       "      <td>2</td>\n",
       "      <td>0</td>\n",
       "      <td>0</td>\n",
       "    </tr>\n",
       "    <tr>\n",
       "      <th>1205874</th>\n",
       "      <td>11/11/2020</td>\n",
       "      <td>21:20:42</td>\n",
       "      <td>9999</td>\n",
       "      <td>GO</td>\n",
       "      <td>92932</td>\n",
       "      <td>CAMPINORTE</td>\n",
       "      <td>-1</td>\n",
       "      <td>#NULO#</td>\n",
       "      <td>50</td>\n",
       "      <td>4</td>\n",
       "      <td>FEMININO</td>\n",
       "      <td>7</td>\n",
       "      <td>SEPARADO JUDICIALMENTE</td>\n",
       "      <td>3539</td>\n",
       "      <td>35 a 39 anos</td>\n",
       "      <td>7</td>\n",
       "      <td>SUPERIOR INCOMPLETO</td>\n",
       "      <td>1</td>\n",
       "      <td>1</td>\n",
       "      <td>0</td>\n",
       "      <td>0</td>\n",
       "    </tr>\n",
       "    <tr>\n",
       "      <th>1362327</th>\n",
       "      <td>11/11/2020</td>\n",
       "      <td>21:20:42</td>\n",
       "      <td>9999</td>\n",
       "      <td>MG</td>\n",
       "      <td>46175</td>\n",
       "      <td>INHAPIM</td>\n",
       "      <td>-1</td>\n",
       "      <td>#NULO#</td>\n",
       "      <td>128</td>\n",
       "      <td>2</td>\n",
       "      <td>MASCULINO</td>\n",
       "      <td>1</td>\n",
       "      <td>SOLTEIRO</td>\n",
       "      <td>3034</td>\n",
       "      <td>30 a 34 anos</td>\n",
       "      <td>5</td>\n",
       "      <td>ENSINO MÉDIO INCOMPLETO</td>\n",
       "      <td>266</td>\n",
       "      <td>17</td>\n",
       "      <td>0</td>\n",
       "      <td>0</td>\n",
       "    </tr>\n",
       "    <tr>\n",
       "      <th>331227</th>\n",
       "      <td>11/11/2020</td>\n",
       "      <td>21:20:42</td>\n",
       "      <td>9999</td>\n",
       "      <td>GO</td>\n",
       "      <td>93343</td>\n",
       "      <td>ÁGUAS LINDAS DE GOIÁS</td>\n",
       "      <td>-1</td>\n",
       "      <td>#NULO#</td>\n",
       "      <td>28</td>\n",
       "      <td>2</td>\n",
       "      <td>MASCULINO</td>\n",
       "      <td>7</td>\n",
       "      <td>SEPARADO JUDICIALMENTE</td>\n",
       "      <td>5559</td>\n",
       "      <td>55 a 59 anos</td>\n",
       "      <td>2</td>\n",
       "      <td>LÊ E ESCREVE</td>\n",
       "      <td>5</td>\n",
       "      <td>5</td>\n",
       "      <td>0</td>\n",
       "      <td>0</td>\n",
       "    </tr>\n",
       "    <tr>\n",
       "      <th>4102896</th>\n",
       "      <td>11/11/2020</td>\n",
       "      <td>21:20:42</td>\n",
       "      <td>9999</td>\n",
       "      <td>SP</td>\n",
       "      <td>68314</td>\n",
       "      <td>PAULÍNIA</td>\n",
       "      <td>-1</td>\n",
       "      <td>#NULO#</td>\n",
       "      <td>323</td>\n",
       "      <td>4</td>\n",
       "      <td>FEMININO</td>\n",
       "      <td>3</td>\n",
       "      <td>CASADO</td>\n",
       "      <td>8084</td>\n",
       "      <td>80 a 84 anos</td>\n",
       "      <td>3</td>\n",
       "      <td>ENSINO FUNDAMENTAL INCOMPLETO</td>\n",
       "      <td>113</td>\n",
       "      <td>18</td>\n",
       "      <td>1</td>\n",
       "      <td>0</td>\n",
       "    </tr>\n",
       "    <tr>\n",
       "      <th>1328651</th>\n",
       "      <td>11/11/2020</td>\n",
       "      <td>21:20:42</td>\n",
       "      <td>9999</td>\n",
       "      <td>CE</td>\n",
       "      <td>13897</td>\n",
       "      <td>FORTALEZA</td>\n",
       "      <td>-1</td>\n",
       "      <td>#NULO#</td>\n",
       "      <td>116</td>\n",
       "      <td>0</td>\n",
       "      <td>NÃO INFORMADO</td>\n",
       "      <td>1</td>\n",
       "      <td>SOLTEIRO</td>\n",
       "      <td>5559</td>\n",
       "      <td>55 a 59 anos</td>\n",
       "      <td>3</td>\n",
       "      <td>ENSINO FUNDAMENTAL INCOMPLETO</td>\n",
       "      <td>1</td>\n",
       "      <td>0</td>\n",
       "      <td>0</td>\n",
       "      <td>0</td>\n",
       "    </tr>\n",
       "  </tbody>\n",
       "</table>\n",
       "</div>"
      ],
      "text/plain": [
       "         DT_GERACAO HH_GERACAO  ANO_ELEICAO SG_UF  CD_MUNICIPIO  \\\n",
       "2268091  11/11/2020   21:20:42         9999    MA          7676   \n",
       "1809929  11/11/2020   21:20:42         9999    MG         41289   \n",
       "3874039  11/11/2020   21:20:42         9999    SP         66915   \n",
       "4089245  11/11/2020   21:20:42         9999    RJ         60011   \n",
       "1489135  11/11/2020   21:20:42         9999    PR         79294   \n",
       "1205874  11/11/2020   21:20:42         9999    GO         92932   \n",
       "1362327  11/11/2020   21:20:42         9999    MG         46175   \n",
       "331227   11/11/2020   21:20:42         9999    GO         93343   \n",
       "4102896  11/11/2020   21:20:42         9999    SP         68314   \n",
       "1328651  11/11/2020   21:20:42         9999    CE         13897   \n",
       "\n",
       "                  NM_MUNICIPIO  CD_MUN_SIT_BIOMETRIA DS_MUN_SIT_BIOMETRIA  \\\n",
       "2268091                COLINAS                    -1               #NULO#   \n",
       "1809929              PAI PEDRO                    -1               #NULO#   \n",
       "3874039               MENDONÇA                    -1               #NULO#   \n",
       "4089245         RIO DE JANEIRO                    -1               #NULO#   \n",
       "1489135               TOMAZINA                    -1               #NULO#   \n",
       "1205874             CAMPINORTE                    -1               #NULO#   \n",
       "1362327                INHAPIM                    -1               #NULO#   \n",
       "331227   ÁGUAS LINDAS DE GOIÁS                    -1               #NULO#   \n",
       "4102896               PAULÍNIA                    -1               #NULO#   \n",
       "1328651              FORTALEZA                    -1               #NULO#   \n",
       "\n",
       "         NR_ZONA  CD_GENERO      DS_GENERO  CD_ESTADO_CIVIL  \\\n",
       "2268091       29          2      MASCULINO                3   \n",
       "1809929      226          2      MASCULINO                3   \n",
       "3874039       64          2      MASCULINO                9   \n",
       "4089245       10          4       FEMININO                5   \n",
       "1489135       19          4       FEMININO                1   \n",
       "1205874       50          4       FEMININO                7   \n",
       "1362327      128          2      MASCULINO                1   \n",
       "331227        28          2      MASCULINO                7   \n",
       "4102896      323          4       FEMININO                3   \n",
       "1328651      116          0  NÃO INFORMADO                1   \n",
       "\n",
       "                DS_ESTADO_CIVIL  CD_FAIXA_ETARIA DS_FAIXA_ETARIA  \\\n",
       "2268091                  CASADO             6569    65 a 69 anos   \n",
       "1809929                  CASADO             4549    45 a 49 anos   \n",
       "3874039              DIVORCIADO             3034    30 a 34 anos   \n",
       "4089245                   VIÚVO             7074    70 a 74 anos   \n",
       "1489135                SOLTEIRO             6569    65 a 69 anos   \n",
       "1205874  SEPARADO JUDICIALMENTE             3539    35 a 39 anos   \n",
       "1362327                SOLTEIRO             3034    30 a 34 anos   \n",
       "331227   SEPARADO JUDICIALMENTE             5559    55 a 59 anos   \n",
       "4102896                  CASADO             8084    80 a 84 anos   \n",
       "1328651                SOLTEIRO             5559    55 a 59 anos   \n",
       "\n",
       "         CD_GRAU_ESCOLARIDADE           DS_GRAU_ESCOLARIDADE  \\\n",
       "2268091                     8              SUPERIOR COMPLETO   \n",
       "1809929                     6          ENSINO MÉDIO COMPLETO   \n",
       "3874039                     8              SUPERIOR COMPLETO   \n",
       "4089245                     8              SUPERIOR COMPLETO   \n",
       "1489135                     8              SUPERIOR COMPLETO   \n",
       "1205874                     7            SUPERIOR INCOMPLETO   \n",
       "1362327                     5        ENSINO MÉDIO INCOMPLETO   \n",
       "331227                      2                   LÊ E ESCREVE   \n",
       "4102896                     3  ENSINO FUNDAMENTAL INCOMPLETO   \n",
       "1328651                     3  ENSINO FUNDAMENTAL INCOMPLETO   \n",
       "\n",
       "         QT_ELEITORES_PERFIL  QT_ELEITORES_BIOMETRIA  \\\n",
       "2268091                   13                      13   \n",
       "1809929                   11                       6   \n",
       "3874039                    1                       1   \n",
       "4089245                   14                      12   \n",
       "1489135                    2                       2   \n",
       "1205874                    1                       1   \n",
       "1362327                  266                      17   \n",
       "331227                     5                       5   \n",
       "4102896                  113                      18   \n",
       "1328651                    1                       0   \n",
       "\n",
       "         QT_ELEITORES_DEFICIENCIA  QT_ELEITORES_INC_NM_SOCIAL  \n",
       "2268091                         0                           0  \n",
       "1809929                         0                           0  \n",
       "3874039                         0                           0  \n",
       "4089245                         0                           0  \n",
       "1489135                         0                           0  \n",
       "1205874                         0                           0  \n",
       "1362327                         0                           0  \n",
       "331227                          0                           0  \n",
       "4102896                         1                           0  \n",
       "1328651                         0                           0  "
      ]
     },
     "execution_count": 5,
     "metadata": {},
     "output_type": "execute_result"
    }
   ],
   "source": [
    "df.sample(10)"
   ]
  },
  {
   "cell_type": "code",
   "execution_count": 6,
   "metadata": {
    "scrolled": true
   },
   "outputs": [
    {
     "data": {
      "text/plain": [
       "CD_GENERO\n",
       "0    NÃO INFORMADO\n",
       "2        MASCULINO\n",
       "4         FEMININO\n",
       "Name: DS_GENERO, dtype: object"
      ]
     },
     "execution_count": 6,
     "metadata": {},
     "output_type": "execute_result"
    }
   ],
   "source": [
    "df.groupby('CD_GENERO')['DS_GENERO'].max()"
   ]
  },
  {
   "cell_type": "code",
   "execution_count": 7,
   "metadata": {},
   "outputs": [
    {
     "data": {
      "text/plain": [
       "DS_GENERO\n",
       "MASCULINO        6448\n",
       "FEMININO         5487\n",
       "NÃO INFORMADO     140\n",
       "Name: QT_ELEITORES_PERFIL, dtype: int64"
      ]
     },
     "execution_count": 7,
     "metadata": {},
     "output_type": "execute_result"
    }
   ],
   "source": [
    "df.groupby('DS_GENERO')['QT_ELEITORES_PERFIL'].max().sort_values(ascending=False)"
   ]
  },
  {
   "cell_type": "markdown",
   "metadata": {},
   "source": [
    "- __Gráfico contendo a quantidade de eleitores de acordo com a faixa etária da população em Jacareí.__"
   ]
  },
  {
   "cell_type": "code",
   "execution_count": 8,
   "metadata": {
    "scrolled": false
   },
   "outputs": [
    {
     "data": {
      "text/plain": [
       "<AxesSubplot:title={'center':'Quantidade de eleitores por faixa etária em Jacareí '}, xlabel='Faixa Etária', ylabel='Quantidade de eleitores'>"
      ]
     },
     "execution_count": 8,
     "metadata": {},
     "output_type": "execute_result"
    },
    {
     "data": {
      "image/png": "[encoded data removed]",
      "text/plain": [
       "<Figure size 432x288 with 1 Axes>"
      ]
     },
     "metadata": {
      "needs_background": "light"
     },
     "output_type": "display_data"
    }
   ],
   "source": [
    "mun = df.query('NM_MUNICIPIO == \"JACAREÍ\"')\n",
    "mun.tail(10).plot(kind='bar',\n",
    "                 x='DS_FAIXA_ETARIA', y='QT_ELEITORES_PERFIL', color='RED', \n",
    "                  title='Quantidade de eleitores por faixa etária em Jacareí ', \n",
    "                  xlabel='Faixa Etária', ylabel='Quantidade de eleitores')"
   ]
  },
  {
   "cell_type": "markdown",
   "metadata": {},
   "source": [
    "- __Gráfico contendo a quantidade de eleitores de acordo com a faixa etária da população em São José dos Campos.__"
   ]
  },
  {
   "cell_type": "code",
   "execution_count": 9,
   "metadata": {},
   "outputs": [
    {
     "data": {
      "text/plain": [
       "<AxesSubplot:title={'center':'Faixa etária de eleitores em São José dos Campos'}, xlabel='Faixa Etária'>"
      ]
     },
     "execution_count": 9,
     "metadata": {},
     "output_type": "execute_result"
    },
    {
     "data": {
      "image/png": "[encoded data removed]",
      "text/plain": [
       "<Figure size 432x288 with 1 Axes>"
      ]
     },
     "metadata": {
      "needs_background": "light"
     },
     "output_type": "display_data"
    }
   ],
   "source": [
    "sjc = df.query('NM_MUNICIPIO == \"SÃO JOSÉ DOS CAMPOS\"')\n",
    "sjc.tail(10).plot(kind='bar',title=\"Faixa etária de eleitores em São José dos Campos\",\n",
    "        x= 'DS_FAIXA_ETARIA', y='QT_ELEITORES_PERFIL', color='ORANGE', \n",
    "                  xlabel='Faixa Etária')"
   ]
  },
  {
   "cell_type": "markdown",
   "metadata": {},
   "source": [
    "- __Gráfico contendo a quantidade de eleitores de acordo com a faixa etária da população em Caçapava.__"
   ]
  },
  {
   "cell_type": "code",
   "execution_count": 10,
   "metadata": {},
   "outputs": [
    {
     "data": {
      "text/plain": [
       "<AxesSubplot:title={'center':'Faixa etária de eleitores em Caçapava'}, xlabel='Faixa Etária'>"
      ]
     },
     "execution_count": 10,
     "metadata": {},
     "output_type": "execute_result"
    },
    {
     "data": {
      "image/png": "[encoded data removed]",
      "text/plain": [
       "<Figure size 432x288 with 1 Axes>"
      ]
     },
     "metadata": {
      "needs_background": "light"
     },
     "output_type": "display_data"
    }
   ],
   "source": [
    "sjc = df.query('NM_MUNICIPIO == \"CAÇAPAVA\"')\n",
    "sjc.tail(10).plot(kind='bar',title=\"Faixa etária de eleitores em Caçapava\",\n",
    "        x= 'DS_FAIXA_ETARIA', y='QT_ELEITORES_PERFIL', color='YELLOW', \n",
    "                  xlabel='Faixa Etária')"
   ]
  },
  {
   "cell_type": "markdown",
   "metadata": {},
   "source": [
    "- __Gráfico comparativo entre genêros na eleição brasileira .__"
   ]
  },
  {
   "cell_type": "code",
   "execution_count": 11,
   "metadata": {
    "scrolled": true
   },
   "outputs": [
    {
     "data": {
      "text/plain": [
       "<AxesSubplot:title={'center':'Gráfico comparativo entre gêneros'}, ylabel='DS_GENERO'>"
      ]
     },
     "execution_count": 11,
     "metadata": {},
     "output_type": "execute_result"
    },
    {
     "data": {
      "image/png": "[encoded data removed]",
      "text/plain": [
       "<Figure size 432x288 with 1 Axes>"
      ]
     },
     "metadata": {
      "needs_background": "light"
     },
     "output_type": "display_data"
    }
   ],
   "source": [
    "df.groupby('DS_GENERO')['QT_ELEITORES_PERFIL'].max().sort_values().plot(kind='barh', \n",
    "                                                                        color=['yellow', 'pink', 'blue'], \n",
    "                                                                        title='Gráfico comparativo entre gêneros')"
   ]
  },
  {
   "cell_type": "markdown",
   "metadata": {},
   "source": [
    "- __Gráfico contendo a quantidade de eleitores femininos por faixa etaria no Brasil.__"
   ]
  },
  {
   "cell_type": "code",
   "execution_count": 12,
   "metadata": {},
   "outputs": [
    {
     "data": {
      "text/plain": [
       "<AxesSubplot:title={'center':'Faixa etária de eleitores do gênero feminino'}, xlabel='Faixa Etária'>"
      ]
     },
     "execution_count": 12,
     "metadata": {},
     "output_type": "execute_result"
    },
    {
     "data": {
      "image/png": "[encoded data removed]",
      "text/plain": [
       "<Figure size 432x288 with 1 Axes>"
      ]
     },
     "metadata": {
      "needs_background": "light"
     },
     "output_type": "display_data"
    }
   ],
   "source": [
    "fhf = df.query('DS_GENERO == \"FEMININO\"')\n",
    "fhf.tail(10).plot(kind='bar', title=\"Faixa etária de eleitores do gênero feminino\",\n",
    "        x= 'DS_FAIXA_ETARIA', y='QT_ELEITORES_PERFIL', color='PINK', xlabel='Faixa Etária')"
   ]
  },
  {
   "cell_type": "markdown",
   "metadata": {},
   "source": [
    "- __Gráfico contendo a quantidade de eleitores masculinos por faixa etária no Brasil.__"
   ]
  },
  {
   "cell_type": "code",
   "execution_count": 13,
   "metadata": {},
   "outputs": [
    {
     "data": {
      "text/plain": [
       "<AxesSubplot:title={'center':'Faixa etária de eleitores do gênero masculino'}, xlabel='Faixa Etária'>"
      ]
     },
     "execution_count": 13,
     "metadata": {},
     "output_type": "execute_result"
    },
    {
     "data": {
      "image/png": "[encoded data removed]",
      "text/plain": [
       "<Figure size 432x288 with 1 Axes>"
      ]
     },
     "metadata": {
      "needs_background": "light"
     },
     "output_type": "display_data"
    }
   ],
   "source": [
    "fhm = df.query('DS_GENERO == \"MASCULINO\"')\n",
    "fhm.tail(10).plot(kind='bar', title=\"Faixa etária de eleitores do gênero masculino\",\n",
    "        x= 'DS_FAIXA_ETARIA', y='QT_ELEITORES_PERFIL', color='BLUE', xlabel='Faixa Etária')"
   ]
  },
  {
   "cell_type": "markdown",
   "metadata": {},
   "source": [
    "- __Gráfico contendo a quantidade de eleitores femininos por grau de escolaridade.__"
   ]
  },
  {
   "cell_type": "code",
   "execution_count": 25,
   "metadata": {},
   "outputs": [
    {
     "data": {
      "text/plain": [
       "<AxesSubplot:xlabel='Grau de Escolaridade'>"
      ]
     },
     "execution_count": 25,
     "metadata": {},
     "output_type": "execute_result"
    },
    {
     "data": {
      "image/png": "[encoded data removed]",
      "text/plain": [
       "<Figure size 432x288 with 1 Axes>"
      ]
     },
     "metadata": {
      "needs_background": "light"
     },
     "output_type": "display_data"
    }
   ],
   "source": [
    "fhf.tail(10).plot(kind='bar', x ='DS_GRAU_ESCOLARIDADE', y='QT_ELEITORES_PERFIL', \n",
    "                  color='PURPLE', xlabel='Grau de Escolaridade' )"
   ]
  },
  {
   "cell_type": "markdown",
   "metadata": {},
   "source": [
    "- __Gráfico contendo a quantidade de eleitores masculinos por grau de escolaridade.__"
   ]
  },
  {
   "cell_type": "code",
   "execution_count": 27,
   "metadata": {},
   "outputs": [
    {
     "data": {
      "text/plain": [
       "<AxesSubplot:xlabel='Grau de Escolaridade'>"
      ]
     },
     "execution_count": 27,
     "metadata": {},
     "output_type": "execute_result"
    },
    {
     "data": {
      "image/png": "[encoded data removed]",
      "text/plain": [
       "<Figure size 432x288 with 1 Axes>"
      ]
     },
     "metadata": {
      "needs_background": "light"
     },
     "output_type": "display_data"
    }
   ],
   "source": [
    "fhm.tail(10).plot(kind='bar', x ='DS_GRAU_ESCOLARIDADE', y='QT_ELEITORES_PERFIL', \n",
    "                  color='LIGHTBLUE', xlabel='Grau de Escolaridade' )"
   ]
  }
 ],
 "metadata": {
  "kernelspec": {
   "display_name": "Python 3",
   "language": "python",
   "name": "python3"
  },
  "language_info": {
   "codemirror_mode": {
    "name": "ipython",
    "version": 3
   },
   "file_extension": ".py",
   "mimetype": "text/x-python",
   "name": "python",
   "nbconvert_exporter": "python",
   "pygments_lexer": "ipython3",
   "version": "3.8.6"
  }
 },
 "nbformat": 4,
 "nbformat_minor": 4
}
